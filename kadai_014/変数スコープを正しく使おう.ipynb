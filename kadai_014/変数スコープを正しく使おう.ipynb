{
  "nbformat": 4,
  "nbformat_minor": 0,
  "metadata": {
    "colab": {
      "provenance": []
    },
    "kernelspec": {
      "name": "python3",
      "display_name": "Python 3"
    },
    "language_info": {
      "name": "python"
    }
  },
  "cells": [
    {
      "cell_type": "code",
      "source": [
        "price1 = 100\n",
        "price2 = 200\n",
        "tax = 1.1\n",
        "\n",
        "def total():\n",
        "  return price1 + price2\n",
        "\n",
        "print (total() * tax)"
      ],
      "metadata": {
        "colab": {
          "base_uri": "https://localhost:8080/"
        },
        "id": "4ajvcDukV799",
        "outputId": "eee05322-cdb0-4b73-a341-80b87682b5ef"
      },
      "execution_count": 5,
      "outputs": [
        {
          "output_type": "stream",
          "name": "stdout",
          "text": [
            "330.0\n"
          ]
        }
      ]
    }
  ]
}