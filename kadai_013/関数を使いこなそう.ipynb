{
  "nbformat": 4,
  "nbformat_minor": 0,
  "metadata": {
    "colab": {
      "provenance": []
    },
    "kernelspec": {
      "name": "python3",
      "display_name": "Python 3"
    },
    "language_info": {
      "name": "python"
    }
  },
  "cells": [
    {
      "cell_type": "code",
      "execution_count": 19,
      "metadata": {
        "colab": {
          "base_uri": "https://localhost:8080/"
        },
        "id": "vy-QiuorF_Hr",
        "outputId": "1c313887-5299-43d1-c12b-c01b79ed265f"
      },
      "outputs": [
        {
          "output_type": "stream",
          "name": "stdout",
          "text": [
            "121.0 円\n"
          ]
        }
      ],
      "source": [
        "# 与えられた引数priceに消費税を加算し、その値を出力する関数を定義する\n",
        "def calculate_total(price, tax_rate):\n",
        "\n",
        "    # 与えられた引数priceに消費税を加算し、変数total_priceに代入する\n",
        "    total_price = price + (price * tax_rate / 100)\n",
        "    return total_price\n",
        "\n",
        "# 商品金額と税率を設定\n",
        "price = 110\n",
        "tax_rate = 10\n",
        "\n",
        "# 関数を呼び出して結果を取得\n",
        "result = calculate_total(price, tax_rate)\n",
        "\n",
        "# 変数resultの値を出力する\n",
        "print(f\"{result} 円\")\n"
      ]
    }
  ]
}