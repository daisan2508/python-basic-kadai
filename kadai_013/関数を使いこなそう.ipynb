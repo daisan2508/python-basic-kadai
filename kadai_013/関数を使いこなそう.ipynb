{
  "nbformat": 4,
  "nbformat_minor": 0,
  "metadata": {
    "colab": {
      "provenance": []
    },
    "kernelspec": {
      "name": "python3",
      "display_name": "Python 3"
    },
    "language_info": {
      "name": "python"
    }
  },
  "cells": [
    {
      "cell_type": "code",
      "execution_count": 3,
      "metadata": {
        "colab": {
          "base_uri": "https://localhost:8080/"
        },
        "id": "vy-QiuorF_Hr",
        "outputId": "46a2c1db-b25d-4bb0-f2e7-60c1722a3a43"
      },
      "outputs": [
        {
          "output_type": "stream",
          "name": "stdout",
          "text": [
            "110.0円\n"
          ]
        }
      ],
      "source": [
        "# 与えられた引数$priceに消費税を加算し、その値を出力する関数を定義する\n",
        "def calculate_total(price):\n",
        "\n",
        "    # 与えられた引数priceに消費税を加算し、変数totalに代入する\n",
        "    total = price + (price * 10 / 100)\n",
        "\n",
        "    # 変数totalの値を出力する\n",
        "    print(f\"{total}円\")\n",
        "\n",
        "# 関数を呼び出し、引数として購入金額を渡す\n",
        "calculate_total(100)"
      ]
    }
  ]
}