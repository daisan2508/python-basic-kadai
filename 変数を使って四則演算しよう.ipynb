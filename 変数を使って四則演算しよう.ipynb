{
  "nbformat": 4,
  "nbformat_minor": 0,
  "metadata": {
    "colab": {
      "provenance": []
    },
    "kernelspec": {
      "name": "python3",
      "display_name": "Python 3"
    },
    "language_info": {
      "name": "python"
    }
  },
  "cells": [
    {
      "cell_type": "code",
      "execution_count": 15,
      "metadata": {
        "id": "g9ssxLvOk9qc",
        "colab": {
          "base_uri": "https://localhost:8080/"
        },
        "outputId": "f5edf2a0-ff9d-4bca-c5b2-82bed1e01cea"
      },
      "outputs": [
        {
          "output_type": "stream",
          "name": "stdout",
          "text": [
            "75.0c㎡\n"
          ]
        }
      ],
      "source": [
        "top = 10\n",
        "bottom = 20\n",
        "height = 5\n",
        "\n",
        "# 公式：台形の面積 =（上辺＋下辺）× 高さ ÷ 2\n",
        "trapezoid = (top+bottom)*height/2\n",
        "\n",
        "print(f\"{trapezoid}c㎡\")"
      ]
    }
  ]
}