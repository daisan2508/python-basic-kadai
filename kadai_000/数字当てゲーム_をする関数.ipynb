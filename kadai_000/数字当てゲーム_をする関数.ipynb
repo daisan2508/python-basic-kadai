{
  "nbformat": 4,
  "nbformat_minor": 0,
  "metadata": {
    "colab": {
      "provenance": []
    },
    "kernelspec": {
      "name": "python3",
      "display_name": "Python 3"
    },
    "language_info": {
      "name": "python"
    }
  },
  "cells": [
    {
      "cell_type": "code",
      "execution_count": null,
      "metadata": {
        "id": "2DHWzO5mVpfP"
      },
      "outputs": [],
      "source": [
        "#ランダムな整数を利用\n",
        "import random\n",
        "\n",
        "def game():\n",
        "  #answerに1~10までのランダムな整数を代入する\n",
        "  answer = random.randint(1,10)\n",
        "\n",
        "  # 回数制限\n",
        "  limit = 5\n",
        "\n",
        "  #繰り返し処理を続行する\n",
        "  for i in range(limit):\n",
        "    # ユーザに入力させる\n",
        "    guess = int(input())\n",
        "\n",
        "    #ユーザの入力が正解なら正解という文字列を表示して、繰り返しを終了\n",
        "    if guess == answer:\n",
        "      print(\"正解\")\n",
        "      break\n",
        "\n",
        "    #間違っていれば、大きすぎます というヒントを出す\n",
        "    elif guess > answer:\n",
        "      print(\"大きすぎます\")\n",
        "\n",
        "    #それ以外は 小さすぎます というヒントを出す\n",
        "    else:\n",
        "      print(\"小さすぎます\")"
      ]
    },
    {
      "cell_type": "code",
      "source": [
        "game()"
      ],
      "metadata": {
        "colab": {
          "base_uri": "https://localhost:8080/"
        },
        "id": "XjVGpUVGY5V_",
        "outputId": "6d06bba9-1d46-4742-d2e9-94f71600bfb6"
      },
      "execution_count": null,
      "outputs": [
        {
          "output_type": "stream",
          "name": "stdout",
          "text": [
            "６\n",
            "大きすぎます\n",
            "７\n",
            "大きすぎます\n",
            "４\n",
            "大きすぎます\n",
            "２\n",
            "小さすぎます\n",
            "３\n",
            "正解\n"
          ]
        }
      ]
    }
  ]
}