{
  "nbformat": 4,
  "nbformat_minor": 0,
  "metadata": {
    "colab": {
      "provenance": []
    },
    "kernelspec": {
      "name": "python3",
      "display_name": "Python 3"
    },
    "language_info": {
      "name": "python"
    }
  },
  "cells": [
    {
      "cell_type": "code",
      "execution_count": null,
      "metadata": {
        "id": "AiYP6tVfbGEC"
      },
      "outputs": [],
      "source": [
        "# パスワードを呼び出す関数を設定\n",
        "def password_check():\n",
        "  #パスワードを設定\n",
        "  password = \"0000\"\n",
        "\n",
        "  # 回数制限\n",
        "  limit = 5\n",
        "\n",
        "  #正しいパスワードが入力されるまでユーザーにパスワードを入力させる\n",
        "  for i in range(limit):\n",
        "    # ユーザに入力させる\n",
        "    guess = input()\n",
        "\n",
        "    #正解が入力されたらログイン成功という文字列を表示して、繰り返しを終了\n",
        "    if guess == password:\n",
        "        print(\"ログイン成功\")\n",
        "        break\n",
        "\n",
        "    #不正解の場合はパスワードが間違っていますという文字列を表示して、繰り返し処理続行\n",
        "    else:\n",
        "      print(\"パスワードが間違っています\")"
      ]
    },
    {
      "cell_type": "code",
      "source": [
        "# パスワードを呼び出す\n",
        "password_check()"
      ],
      "metadata": {
        "colab": {
          "base_uri": "https://localhost:8080/"
        },
        "id": "QUohNMtAqwSb",
        "outputId": "d3d268ed-2cda-4cd3-a7d6-6957619cb916"
      },
      "execution_count": null,
      "outputs": [
        {
          "output_type": "stream",
          "name": "stdout",
          "text": [
            "9999\n",
            "パスワードが間違っています\n",
            "0000\n",
            "ログイン成功\n"
          ]
        }
      ]
    }
  ]
}