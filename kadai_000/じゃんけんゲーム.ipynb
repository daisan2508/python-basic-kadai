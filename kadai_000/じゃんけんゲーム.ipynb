{
  "nbformat": 4,
  "nbformat_minor": 0,
  "metadata": {
    "colab": {
      "provenance": []
    },
    "kernelspec": {
      "name": "python3",
      "display_name": "Python 3"
    },
    "language_info": {
      "name": "python"
    }
  },
  "cells": [
    {
      "cell_type": "code",
      "execution_count": 51,
      "metadata": {
        "id": "hJcPDo7WZpVx"
      },
      "outputs": [],
      "source": [
        "#ランダム関数を利用\n",
        "import random\n",
        "\n",
        "def game():\n",
        "  while True:\n",
        "\n",
        "    #answerはランダム\n",
        "    answer = random.choice([\"グー\", \"チョキ\", \"パー\"])\n",
        "\n",
        "    # ユーザに入力させる\n",
        "    user = input()\n",
        "\n",
        "    if user == \"終了\":\n",
        "      print(\"ゲーム終了\")\n",
        "      break\n",
        "\n",
        "    # 答えを出力\n",
        "    print(answer)\n",
        "\n",
        "    # 勝敗判定\n",
        "    if user == answer:\n",
        "      print(\"あいこ\")\n",
        "\n",
        "    elif user == \"グー\" and answer == \"チョキ\":\n",
        "      print(\"勝ち\")\n",
        "\n",
        "    elif user == \"チョキ\" and answer == \"パー\":\n",
        "      print(\"勝ち\")\n",
        "\n",
        "    elif user == \"パー\" and answer == \"グー\":\n",
        "      print(\"勝ち\")\n",
        "\n",
        "    else :\n",
        "      print(\"負け\")"
      ]
    },
    {
      "cell_type": "code",
      "source": [
        "game()"
      ],
      "metadata": {
        "colab": {
          "base_uri": "https://localhost:8080/"
        },
        "id": "Y1Fp2jk6whgp",
        "outputId": "fbf1ce7e-4b6c-4da8-92b5-bd6e0fe6e8b5"
      },
      "execution_count": 52,
      "outputs": [
        {
          "output_type": "stream",
          "name": "stdout",
          "text": [
            "グー\n",
            "チョキ\n",
            "勝ち\n",
            "パー\n",
            "パー\n",
            "あいこ\n",
            "チョキ\n",
            "チョキ\n",
            "あいこ\n",
            "終了\n",
            "ゲーム終了\n"
          ]
        }
      ]
    }
  ]
}