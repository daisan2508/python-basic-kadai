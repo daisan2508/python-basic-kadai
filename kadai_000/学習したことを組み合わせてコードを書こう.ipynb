{
  "nbformat": 4,
  "nbformat_minor": 0,
  "metadata": {
    "colab": {
      "provenance": []
    },
    "kernelspec": {
      "name": "python3",
      "display_name": "Python 3"
    },
    "language_info": {
      "name": "python"
    }
  },
  "cells": [
    {
      "cell_type": "code",
      "execution_count": 1,
      "metadata": {
        "id": "CQAFh2gR7awx"
      },
      "outputs": [],
      "source": [
        "class Human:\n",
        "    # コンストラクタを定義する\n",
        "    def __init__(self, name, age):\n",
        "        self.name = name\n",
        "        self.age = age\n",
        "\n",
        "    # check_adultメソッドを追加\n",
        "    def check_adult(self):\n",
        "      #ageが20以上の場合に大人であること\n",
        "      if self.age >= 20:\n",
        "        print(\"大人\")\n",
        "\n",
        "      #そうでない場合に大人でないこと\n",
        "      else :\n",
        "        print(\"子供\")"
      ]
    },
    {
      "cell_type": "code",
      "source": [
        "#Humanクラスのインスタンスを複数生成してリストに追加\n",
        "human = Human(\"侍太郎\", 36)\n",
        "human2 = Human(\"侍次郎\", 10)\n",
        "\n",
        "#リストの要素数分だけcheck_adultメソッドを呼び出し\n",
        "human_list = [human , human2]\n",
        "\n",
        "for h in human_list:\n",
        "  h.check_adult()"
      ],
      "metadata": {
        "colab": {
          "base_uri": "https://localhost:8080/"
        },
        "id": "-J92jxALHZWm",
        "outputId": "41595fd2-bb30-43a6-85c5-3eeedb0f76ed"
      },
      "execution_count": 3,
      "outputs": [
        {
          "output_type": "stream",
          "name": "stdout",
          "text": [
            "大人\n",
            "子供\n"
          ]
        }
      ]
    }
  ]
}